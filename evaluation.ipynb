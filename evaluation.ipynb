{
 "cells": [
  {
   "cell_type": "markdown",
   "id": "ebd98fc2",
   "metadata": {},
   "source": [
    "# Evaluation"
   ]
  },
  {
   "cell_type": "code",
   "execution_count": 30,
   "id": "23531f1e",
   "metadata": {},
   "outputs": [],
   "source": [
    "import pandas as pd\n",
    "import seaborn as sns\n",
    "from sklearn.preprocessing import OrdinalEncoder\n",
    "import matplotlib.pyplot as plt\n",
    "from sklearn.tree import DecisionTreeClassifier\n",
    "from sklearn.model_selection import train_test_split\n",
    "from sklearn import metrics\n",
    "from sklearn import tree"
   ]
  },
  {
   "cell_type": "markdown",
   "id": "f4b4657f",
   "metadata": {},
   "source": [
    "## Target split"
   ]
  },
  {
   "cell_type": "code",
   "execution_count": 25,
   "id": "339c10de",
   "metadata": {},
   "outputs": [],
   "source": [
    "maintenance = pd.read_csv(\"predictive_maintenance_prepared.csv\")"
   ]
  },
  {
   "cell_type": "code",
   "execution_count": 26,
   "id": "803d2a9b",
   "metadata": {},
   "outputs": [
    {
     "data": {
      "text/plain": [
       "<AxesSubplot: ylabel='Target'>"
      ]
     },
     "execution_count": 26,
     "metadata": {},
     "output_type": "execute_result"
    },
    {
     "data": {
      "image/png": "[encoded data removed]",
      "text/plain": [
       "<Figure size 640x480 with 1 Axes>"
      ]
     },
     "metadata": {},
     "output_type": "display_data"
    }
   ],
   "source": [
    "maintenance['Target'].value_counts().plot(kind='pie')"
   ]
  },
  {
   "cell_type": "markdown",
   "id": "cf63cd7b",
   "metadata": {},
   "source": [
    "As we can see in the pie chart above, we have way more Targets of value 0 than Targets of value 1. This means we have to split the data evenly into a test- and a training set. Due to the limited amount of Target 1s a validation set would reduce the data too much."
   ]
  },
  {
   "cell_type": "code",
   "execution_count": 27,
   "id": "fdeb202a",
   "metadata": {},
   "outputs": [
    {
     "data": {
      "text/plain": [
       "0    9661\n",
       "1     339\n",
       "Name: Target, dtype: int64"
      ]
     },
     "execution_count": 27,
     "metadata": {},
     "output_type": "execute_result"
    }
   ],
   "source": [
    "maintenance['Target'].value_counts()"
   ]
  },
  {
   "cell_type": "markdown",
   "id": "bcf630be",
   "metadata": {},
   "source": [
    "## Splitting data"
   ]
  },
  {
   "cell_type": "markdown",
   "id": "bf84c28a",
   "metadata": {},
   "source": [
    "For demonstrative purposes, the data will not be split evenly at first."
   ]
  },
  {
   "cell_type": "code",
   "execution_count": 28,
   "id": "3b039946",
   "metadata": {},
   "outputs": [
    {
     "data": {
      "text/html": [
       "<div>\n",
       "<style scoped>\n",
       "    .dataframe tbody tr th:only-of-type {\n",
       "        vertical-align: middle;\n",
       "    }\n",
       "\n",
       "    .dataframe tbody tr th {\n",
       "        vertical-align: top;\n",
       "    }\n",
       "\n",
       "    .dataframe thead th {\n",
       "        text-align: right;\n",
       "    }\n",
       "</style>\n",
       "<table border=\"1\" class=\"dataframe\">\n",
       "  <thead>\n",
       "    <tr style=\"text-align: right;\">\n",
       "      <th></th>\n",
       "      <th>Id</th>\n",
       "      <th>Type</th>\n",
       "      <th>Air temperature [K]</th>\n",
       "      <th>Process temperature [K]</th>\n",
       "      <th>Rotational speed [rpm]</th>\n",
       "      <th>Torque [Nm]</th>\n",
       "      <th>Tool wear [min]</th>\n",
       "      <th>Target</th>\n",
       "    </tr>\n",
       "  </thead>\n",
       "  <tbody>\n",
       "    <tr>\n",
       "      <th>count</th>\n",
       "      <td>10000.00000</td>\n",
       "      <td>10000.000000</td>\n",
       "      <td>10000.000000</td>\n",
       "      <td>10000.000000</td>\n",
       "      <td>10000.000000</td>\n",
       "      <td>10000.000000</td>\n",
       "      <td>10000.000000</td>\n",
       "      <td>10000.000000</td>\n",
       "    </tr>\n",
       "    <tr>\n",
       "      <th>mean</th>\n",
       "      <td>4999.50000</td>\n",
       "      <td>0.500300</td>\n",
       "      <td>300.004930</td>\n",
       "      <td>310.005560</td>\n",
       "      <td>1538.776100</td>\n",
       "      <td>39.986910</td>\n",
       "      <td>107.951000</td>\n",
       "      <td>0.033900</td>\n",
       "    </tr>\n",
       "    <tr>\n",
       "      <th>std</th>\n",
       "      <td>2886.89568</td>\n",
       "      <td>0.671301</td>\n",
       "      <td>2.000259</td>\n",
       "      <td>1.483734</td>\n",
       "      <td>179.284096</td>\n",
       "      <td>9.968934</td>\n",
       "      <td>63.654147</td>\n",
       "      <td>0.180981</td>\n",
       "    </tr>\n",
       "    <tr>\n",
       "      <th>min</th>\n",
       "      <td>0.00000</td>\n",
       "      <td>0.000000</td>\n",
       "      <td>295.300000</td>\n",
       "      <td>305.700000</td>\n",
       "      <td>1168.000000</td>\n",
       "      <td>3.800000</td>\n",
       "      <td>0.000000</td>\n",
       "      <td>0.000000</td>\n",
       "    </tr>\n",
       "    <tr>\n",
       "      <th>25%</th>\n",
       "      <td>2499.75000</td>\n",
       "      <td>0.000000</td>\n",
       "      <td>298.300000</td>\n",
       "      <td>308.800000</td>\n",
       "      <td>1423.000000</td>\n",
       "      <td>33.200000</td>\n",
       "      <td>53.000000</td>\n",
       "      <td>0.000000</td>\n",
       "    </tr>\n",
       "    <tr>\n",
       "      <th>50%</th>\n",
       "      <td>4999.50000</td>\n",
       "      <td>0.000000</td>\n",
       "      <td>300.100000</td>\n",
       "      <td>310.100000</td>\n",
       "      <td>1503.000000</td>\n",
       "      <td>40.100000</td>\n",
       "      <td>108.000000</td>\n",
       "      <td>0.000000</td>\n",
       "    </tr>\n",
       "    <tr>\n",
       "      <th>75%</th>\n",
       "      <td>7499.25000</td>\n",
       "      <td>1.000000</td>\n",
       "      <td>301.500000</td>\n",
       "      <td>311.100000</td>\n",
       "      <td>1612.000000</td>\n",
       "      <td>46.800000</td>\n",
       "      <td>162.000000</td>\n",
       "      <td>0.000000</td>\n",
       "    </tr>\n",
       "    <tr>\n",
       "      <th>max</th>\n",
       "      <td>9999.00000</td>\n",
       "      <td>2.000000</td>\n",
       "      <td>304.500000</td>\n",
       "      <td>313.800000</td>\n",
       "      <td>2886.000000</td>\n",
       "      <td>76.600000</td>\n",
       "      <td>253.000000</td>\n",
       "      <td>1.000000</td>\n",
       "    </tr>\n",
       "  </tbody>\n",
       "</table>\n",
       "</div>"
      ],
      "text/plain": [
       "                Id          Type  Air temperature [K]  \\\n",
       "count  10000.00000  10000.000000         10000.000000   \n",
       "mean    4999.50000      0.500300           300.004930   \n",
       "std     2886.89568      0.671301             2.000259   \n",
       "min        0.00000      0.000000           295.300000   \n",
       "25%     2499.75000      0.000000           298.300000   \n",
       "50%     4999.50000      0.000000           300.100000   \n",
       "75%     7499.25000      1.000000           301.500000   \n",
       "max     9999.00000      2.000000           304.500000   \n",
       "\n",
       "       Process temperature [K]  Rotational speed [rpm]   Torque [Nm]  \\\n",
       "count             10000.000000            10000.000000  10000.000000   \n",
       "mean                310.005560             1538.776100     39.986910   \n",
       "std                   1.483734              179.284096      9.968934   \n",
       "min                 305.700000             1168.000000      3.800000   \n",
       "25%                 308.800000             1423.000000     33.200000   \n",
       "50%                 310.100000             1503.000000     40.100000   \n",
       "75%                 311.100000             1612.000000     46.800000   \n",
       "max                 313.800000             2886.000000     76.600000   \n",
       "\n",
       "       Tool wear [min]        Target  \n",
       "count     10000.000000  10000.000000  \n",
       "mean        107.951000      0.033900  \n",
       "std          63.654147      0.180981  \n",
       "min           0.000000      0.000000  \n",
       "25%          53.000000      0.000000  \n",
       "50%         108.000000      0.000000  \n",
       "75%         162.000000      0.000000  \n",
       "max         253.000000      1.000000  "
      ]
     },
     "execution_count": 28,
     "metadata": {},
     "output_type": "execute_result"
    }
   ],
   "source": [
    "maintenance.describe()"
   ]
  },
  {
   "cell_type": "code",
   "execution_count": 29,
   "id": "e887cbc8",
   "metadata": {},
   "outputs": [
    {
     "name": "stdout",
     "output_type": "stream",
     "text": [
      "Accuracy: 97.84%\n"
     ]
    }
   ],
   "source": [
    "X = maintenance[['Type', 'Air temperature [K]', 'Process temperature [K]', 'Rotational speed [rpm]', 'Torque [Nm]', 'Tool wear [min]']]\n",
    "y = maintenance['Target']\n",
    "\n",
    "X_train, X_test, y_train, y_test = train_test_split(X,y,random_state=20)\n",
    "\n",
    "dt_model = DecisionTreeClassifier()\n",
    "dt_model.fit(X_train, y_train)\n",
    "\n",
    "y_pred = dt_model.predict(X_test)\n",
    "\n",
    "accuracy_score = metrics.accuracy_score(y_test, y_pred)\n",
    "print('Accuracy: {:.2%}'.format(accuracy_score))"
   ]
  },
  {
   "cell_type": "markdown",
   "id": "14cc3178",
   "metadata": {},
   "source": [
    "The accuracy is already at 97.84% without any adjustments. Let's take a look at the decision tree structure and the training data set."
   ]
  },
  {
   "cell_type": "markdown",
   "id": "7a2d9568",
   "metadata": {},
   "source": [
    "### Analysing the data and the first decision tree"
   ]
  },
  {
   "cell_type": "code",
   "execution_count": 42,
   "id": "65fdb648",
   "metadata": {
    "scrolled": false
   },
   "outputs": [
    {
     "name": "stdout",
     "output_type": "stream",
     "text": [
      "|--- Torque [Nm] <= 65.05\n",
      "|   |--- Torque [Nm] <= 13.15\n",
      "|   |   |--- Process temperature [K] <= 313.30\n",
      "|   |   |   |--- Type <= 1.50\n",
      "|   |   |   |   |--- class: 1\n",
      "|   |   |   |--- Type >  1.50\n",
      "|   |   |   |   |--- Process temperature [K] <= 309.00\n",
      "|   |   |   |   |   |--- class: 0\n",
      "|   |   |   |   |--- Process temperature [K] >  309.00\n",
      "|   |   |   |   |   |--- class: 1\n",
      "|   |   |--- Process temperature [K] >  313.30\n",
      "|   |   |   |--- class: 0\n",
      "|   |--- Torque [Nm] >  13.15\n",
      "|   |   |--- Rotational speed [rpm] <= 1380.50\n",
      "|   |   |   |--- Air temperature [K] <= 301.55\n",
      "|   |   |   |   |--- Tool wear [min] <= 199.50\n",
      "|   |   |   |   |   |--- Torque [Nm] <= 60.65\n",
      "|   |   |   |   |   |   |--- Tool wear [min] <= 188.50\n",
      "|   |   |   |   |   |   |   |--- class: 0\n",
      "|   |   |   |   |   |   |--- Tool wear [min] >  188.50\n",
      "|   |   |   |   |   |   |   |--- Process temperature [K] <= 311.70\n",
      "|   |   |   |   |   |   |   |   |--- Rotational speed [rpm] <= 1281.00\n",
      "|   |   |   |   |   |   |   |   |   |--- class: 1\n",
      "|   |   |   |   |   |   |   |   |--- Rotational speed [rpm] >  1281.00\n",
      "|   |   |   |   |   |   |   |   |   |--- class: 0\n",
      "|   |   |   |   |   |   |   |--- Process temperature [K] >  311.70\n",
      "|   |   |   |   |   |   |   |   |--- class: 1\n",
      "|   |   |   |   |   |--- Torque [Nm] >  60.65\n",
      "|   |   |   |   |   |   |--- Tool wear [min] <= 180.00\n",
      "|   |   |   |   |   |   |   |--- Air temperature [K] <= 300.75\n",
      "|   |   |   |   |   |   |   |   |--- Rotational speed [rpm] <= 1371.00\n",
      "|   |   |   |   |   |   |   |   |   |--- class: 0\n",
      "|   |   |   |   |   |   |   |   |--- Rotational speed [rpm] >  1371.00\n",
      "|   |   |   |   |   |   |   |   |   |--- Torque [Nm] <= 62.95\n",
      "|   |   |   |   |   |   |   |   |   |   |--- class: 0\n",
      "|   |   |   |   |   |   |   |   |   |--- Torque [Nm] >  62.95\n",
      "|   |   |   |   |   |   |   |   |   |   |--- class: 1\n",
      "|   |   |   |   |   |   |   |--- Air temperature [K] >  300.75\n",
      "|   |   |   |   |   |   |   |   |--- Torque [Nm] <= 61.90\n",
      "|   |   |   |   |   |   |   |   |   |--- class: 0\n",
      "|   |   |   |   |   |   |   |   |--- Torque [Nm] >  61.90\n",
      "|   |   |   |   |   |   |   |   |   |--- Process temperature [K] <= 311.35\n",
      "|   |   |   |   |   |   |   |   |   |   |--- class: 1\n",
      "|   |   |   |   |   |   |   |   |   |--- Process temperature [K] >  311.35\n",
      "|   |   |   |   |   |   |   |   |   |   |--- class: 0\n",
      "|   |   |   |   |   |   |--- Tool wear [min] >  180.00\n",
      "|   |   |   |   |   |   |   |--- class: 1\n",
      "|   |   |   |   |--- Tool wear [min] >  199.50\n",
      "|   |   |   |   |   |--- Torque [Nm] <= 52.45\n",
      "|   |   |   |   |   |   |--- Tool wear [min] <= 224.00\n",
      "|   |   |   |   |   |   |   |--- Process temperature [K] <= 308.65\n",
      "|   |   |   |   |   |   |   |   |--- Process temperature [K] <= 308.30\n",
      "|   |   |   |   |   |   |   |   |   |--- class: 0\n",
      "|   |   |   |   |   |   |   |   |--- Process temperature [K] >  308.30\n",
      "|   |   |   |   |   |   |   |   |   |--- Air temperature [K] <= 297.80\n",
      "|   |   |   |   |   |   |   |   |   |   |--- class: 1\n",
      "|   |   |   |   |   |   |   |   |   |--- Air temperature [K] >  297.80\n",
      "|   |   |   |   |   |   |   |   |   |   |--- Torque [Nm] <= 49.90\n",
      "|   |   |   |   |   |   |   |   |   |   |   |--- class: 0\n",
      "|   |   |   |   |   |   |   |   |   |   |--- Torque [Nm] >  49.90\n",
      "|   |   |   |   |   |   |   |   |   |   |   |--- class: 1\n",
      "|   |   |   |   |   |   |   |--- Process temperature [K] >  308.65\n",
      "|   |   |   |   |   |   |   |   |--- class: 0\n",
      "|   |   |   |   |   |   |--- Tool wear [min] >  224.00\n",
      "|   |   |   |   |   |   |   |--- Torque [Nm] <= 49.75\n",
      "|   |   |   |   |   |   |   |   |--- class: 1\n",
      "|   |   |   |   |   |   |   |--- Torque [Nm] >  49.75\n",
      "|   |   |   |   |   |   |   |   |--- class: 0\n",
      "|   |   |   |   |   |--- Torque [Nm] >  52.45\n",
      "|   |   |   |   |   |   |--- Type <= 0.50\n",
      "|   |   |   |   |   |   |   |--- Air temperature [K] <= 300.65\n",
      "|   |   |   |   |   |   |   |   |--- class: 1\n",
      "|   |   |   |   |   |   |   |--- Air temperature [K] >  300.65\n",
      "|   |   |   |   |   |   |   |   |--- Torque [Nm] <= 54.95\n",
      "|   |   |   |   |   |   |   |   |   |--- class: 0\n",
      "|   |   |   |   |   |   |   |   |--- Torque [Nm] >  54.95\n",
      "|   |   |   |   |   |   |   |   |   |--- class: 1\n",
      "|   |   |   |   |   |   |--- Type >  0.50\n",
      "|   |   |   |   |   |   |   |--- Torque [Nm] <= 60.35\n",
      "|   |   |   |   |   |   |   |   |--- class: 0\n",
      "|   |   |   |   |   |   |   |--- Torque [Nm] >  60.35\n",
      "|   |   |   |   |   |   |   |   |--- class: 1\n",
      "|   |   |   |--- Air temperature [K] >  301.55\n",
      "|   |   |   |   |--- Process temperature [K] <= 310.55\n",
      "|   |   |   |   |   |--- Air temperature [K] <= 301.75\n",
      "|   |   |   |   |   |   |--- Process temperature [K] <= 310.30\n",
      "|   |   |   |   |   |   |   |--- class: 1\n",
      "|   |   |   |   |   |   |--- Process temperature [K] >  310.30\n",
      "|   |   |   |   |   |   |   |--- class: 0\n",
      "|   |   |   |   |   |--- Air temperature [K] >  301.75\n",
      "|   |   |   |   |   |   |--- class: 1\n",
      "|   |   |   |   |--- Process temperature [K] >  310.55\n",
      "|   |   |   |   |   |--- Tool wear [min] <= 206.50\n",
      "|   |   |   |   |   |   |--- Process temperature [K] <= 312.15\n",
      "|   |   |   |   |   |   |   |--- Air temperature [K] <= 302.65\n",
      "|   |   |   |   |   |   |   |   |--- Process temperature [K] <= 310.95\n",
      "|   |   |   |   |   |   |   |   |   |--- Air temperature [K] <= 302.05\n",
      "|   |   |   |   |   |   |   |   |   |   |--- class: 0\n",
      "|   |   |   |   |   |   |   |   |   |--- Air temperature [K] >  302.05\n",
      "|   |   |   |   |   |   |   |   |   |   |--- Tool wear [min] <= 82.00\n",
      "|   |   |   |   |   |   |   |   |   |   |   |--- truncated branch of depth 2\n",
      "|   |   |   |   |   |   |   |   |   |   |--- Tool wear [min] >  82.00\n",
      "|   |   |   |   |   |   |   |   |   |   |   |--- class: 1\n",
      "|   |   |   |   |   |   |   |   |--- Process temperature [K] >  310.95\n",
      "|   |   |   |   |   |   |   |   |   |--- Air temperature [K] <= 302.55\n",
      "|   |   |   |   |   |   |   |   |   |   |--- Process temperature [K] <= 311.75\n",
      "|   |   |   |   |   |   |   |   |   |   |   |--- class: 0\n",
      "|   |   |   |   |   |   |   |   |   |   |--- Process temperature [K] >  311.75\n",
      "|   |   |   |   |   |   |   |   |   |   |   |--- truncated branch of depth 2\n",
      "|   |   |   |   |   |   |   |   |   |--- Air temperature [K] >  302.55\n",
      "|   |   |   |   |   |   |   |   |   |   |--- Process temperature [K] <= 311.30\n",
      "|   |   |   |   |   |   |   |   |   |   |   |--- class: 1\n",
      "|   |   |   |   |   |   |   |   |   |   |--- Process temperature [K] >  311.30\n",
      "|   |   |   |   |   |   |   |   |   |   |   |--- class: 0\n",
      "|   |   |   |   |   |   |   |--- Air temperature [K] >  302.65\n",
      "|   |   |   |   |   |   |   |   |--- Process temperature [K] <= 312.05\n",
      "|   |   |   |   |   |   |   |   |   |--- class: 1\n",
      "|   |   |   |   |   |   |   |   |--- Process temperature [K] >  312.05\n",
      "|   |   |   |   |   |   |   |   |   |--- Air temperature [K] <= 303.30\n",
      "|   |   |   |   |   |   |   |   |   |   |--- class: 0\n",
      "|   |   |   |   |   |   |   |   |   |--- Air temperature [K] >  303.30\n",
      "|   |   |   |   |   |   |   |   |   |   |--- class: 1\n",
      "|   |   |   |   |   |   |--- Process temperature [K] >  312.15\n",
      "|   |   |   |   |   |   |   |--- Tool wear [min] <= 203.50\n",
      "|   |   |   |   |   |   |   |   |--- Tool wear [min] <= 193.50\n",
      "|   |   |   |   |   |   |   |   |   |--- class: 0\n",
      "|   |   |   |   |   |   |   |   |--- Tool wear [min] >  193.50\n",
      "|   |   |   |   |   |   |   |   |   |--- Tool wear [min] <= 195.50\n",
      "|   |   |   |   |   |   |   |   |   |   |--- class: 1\n",
      "|   |   |   |   |   |   |   |   |   |--- Tool wear [min] >  195.50\n",
      "|   |   |   |   |   |   |   |   |   |   |--- class: 0\n",
      "|   |   |   |   |   |   |   |--- Tool wear [min] >  203.50\n",
      "|   |   |   |   |   |   |   |   |--- class: 1\n",
      "|   |   |   |   |   |--- Tool wear [min] >  206.50\n",
      "|   |   |   |   |   |   |--- Process temperature [K] <= 312.05\n",
      "|   |   |   |   |   |   |   |--- class: 1\n",
      "|   |   |   |   |   |   |--- Process temperature [K] >  312.05\n",
      "|   |   |   |   |   |   |   |--- class: 0\n",
      "|   |   |--- Rotational speed [rpm] >  1380.50\n",
      "|   |   |   |--- Torque [Nm] <= 59.05\n",
      "|   |   |   |   |--- Tool wear [min] <= 204.50\n",
      "|   |   |   |   |   |--- Torque [Nm] <= 13.45\n",
      "|   |   |   |   |   |   |--- Type <= 1.00\n",
      "|   |   |   |   |   |   |   |--- class: 1\n",
      "|   |   |   |   |   |   |--- Type >  1.00\n",
      "|   |   |   |   |   |   |   |--- class: 0\n",
      "|   |   |   |   |   |--- Torque [Nm] >  13.45\n",
      "|   |   |   |   |   |   |--- Torque [Nm] <= 15.35\n",
      "|   |   |   |   |   |   |   |--- Air temperature [K] <= 296.45\n",
      "|   |   |   |   |   |   |   |   |--- class: 1\n",
      "|   |   |   |   |   |   |   |--- Air temperature [K] >  296.45\n",
      "|   |   |   |   |   |   |   |   |--- Torque [Nm] <= 15.25\n",
      "|   |   |   |   |   |   |   |   |   |--- class: 0\n",
      "|   |   |   |   |   |   |   |   |--- Torque [Nm] >  15.25\n",
      "|   |   |   |   |   |   |   |   |   |--- class: 1\n",
      "|   |   |   |   |   |   |--- Torque [Nm] >  15.35\n",
      "|   |   |   |   |   |   |   |--- Tool wear [min] <= 201.50\n",
      "|   |   |   |   |   |   |   |   |--- Rotational speed [rpm] <= 1439.50\n",
      "|   |   |   |   |   |   |   |   |   |--- Rotational speed [rpm] <= 1437.50\n",
      "|   |   |   |   |   |   |   |   |   |   |--- Air temperature [K] <= 303.55\n",
      "|   |   |   |   |   |   |   |   |   |   |   |--- truncated branch of depth 4\n",
      "|   |   |   |   |   |   |   |   |   |   |--- Air temperature [K] >  303.55\n",
      "|   |   |   |   |   |   |   |   |   |   |   |--- truncated branch of depth 3\n",
      "|   |   |   |   |   |   |   |   |   |--- Rotational speed [rpm] >  1437.50\n",
      "|   |   |   |   |   |   |   |   |   |   |--- Torque [Nm] <= 45.05\n",
      "|   |   |   |   |   |   |   |   |   |   |   |--- class: 0\n",
      "|   |   |   |   |   |   |   |   |   |   |--- Torque [Nm] >  45.05\n",
      "|   |   |   |   |   |   |   |   |   |   |   |--- truncated branch of depth 4\n",
      "|   |   |   |   |   |   |   |   |--- Rotational speed [rpm] >  1439.50\n",
      "|   |   |   |   |   |   |   |   |   |--- Torque [Nm] <= 29.15\n",
      "|   |   |   |   |   |   |   |   |   |   |--- Torque [Nm] <= 29.05\n",
      "|   |   |   |   |   |   |   |   |   |   |   |--- truncated branch of depth 4\n",
      "|   |   |   |   |   |   |   |   |   |   |--- Torque [Nm] >  29.05\n",
      "|   |   |   |   |   |   |   |   |   |   |   |--- truncated branch of depth 3\n",
      "|   |   |   |   |   |   |   |   |   |--- Torque [Nm] >  29.15\n",
      "|   |   |   |   |   |   |   |   |   |   |--- class: 0\n",
      "|   |   |   |   |   |   |   |--- Tool wear [min] >  201.50\n",
      "|   |   |   |   |   |   |   |   |--- Torque [Nm] <= 54.90\n",
      "|   |   |   |   |   |   |   |   |   |--- Rotational speed [rpm] <= 1973.00\n",
      "|   |   |   |   |   |   |   |   |   |   |--- class: 0\n",
      "|   |   |   |   |   |   |   |   |   |--- Rotational speed [rpm] >  1973.00\n",
      "|   |   |   |   |   |   |   |   |   |   |--- Rotational speed [rpm] <= 2103.50\n",
      "|   |   |   |   |   |   |   |   |   |   |   |--- class: 1\n",
      "|   |   |   |   |   |   |   |   |   |   |--- Rotational speed [rpm] >  2103.50\n",
      "|   |   |   |   |   |   |   |   |   |   |   |--- class: 0\n",
      "|   |   |   |   |   |   |   |   |--- Torque [Nm] >  54.90\n",
      "|   |   |   |   |   |   |   |   |   |--- Process temperature [K] <= 308.55\n",
      "|   |   |   |   |   |   |   |   |   |   |--- class: 1\n",
      "|   |   |   |   |   |   |   |   |   |--- Process temperature [K] >  308.55\n",
      "|   |   |   |   |   |   |   |   |   |   |--- class: 0\n",
      "|   |   |   |   |--- Tool wear [min] >  204.50\n",
      "|   |   |   |   |   |--- Torque [Nm] <= 52.10\n",
      "|   |   |   |   |   |   |--- Tool wear [min] <= 224.50\n",
      "|   |   |   |   |   |   |   |--- Air temperature [K] <= 304.20\n",
      "|   |   |   |   |   |   |   |   |--- Rotational speed [rpm] <= 1405.50\n",
      "|   |   |   |   |   |   |   |   |   |--- Air temperature [K] <= 299.60\n",
      "|   |   |   |   |   |   |   |   |   |   |--- class: 0\n",
      "|   |   |   |   |   |   |   |   |   |--- Air temperature [K] >  299.60\n",
      "|   |   |   |   |   |   |   |   |   |   |--- Air temperature [K] <= 300.80\n",
      "|   |   |   |   |   |   |   |   |   |   |   |--- truncated branch of depth 3\n",
      "|   |   |   |   |   |   |   |   |   |   |--- Air temperature [K] >  300.80\n",
      "|   |   |   |   |   |   |   |   |   |   |   |--- truncated branch of depth 2\n",
      "|   |   |   |   |   |   |   |   |--- Rotational speed [rpm] >  1405.50\n",
      "|   |   |   |   |   |   |   |   |   |--- Rotational speed [rpm] <= 2270.00\n",
      "|   |   |   |   |   |   |   |   |   |   |--- Process temperature [K] <= 313.10\n",
      "|   |   |   |   |   |   |   |   |   |   |   |--- truncated branch of depth 10\n",
      "|   |   |   |   |   |   |   |   |   |   |--- Process temperature [K] >  313.10\n",
      "|   |   |   |   |   |   |   |   |   |   |   |--- truncated branch of depth 2\n",
      "|   |   |   |   |   |   |   |   |   |--- Rotational speed [rpm] >  2270.00\n",
      "|   |   |   |   |   |   |   |   |   |   |--- Rotational speed [rpm] <= 2443.00\n",
      "|   |   |   |   |   |   |   |   |   |   |   |--- class: 1\n",
      "|   |   |   |   |   |   |   |   |   |   |--- Rotational speed [rpm] >  2443.00\n",
      "|   |   |   |   |   |   |   |   |   |   |   |--- class: 0\n",
      "|   |   |   |   |   |   |   |--- Air temperature [K] >  304.20\n",
      "|   |   |   |   |   |   |   |   |--- class: 1\n",
      "|   |   |   |   |   |   |--- Tool wear [min] >  224.50\n",
      "|   |   |   |   |   |   |   |--- Torque [Nm] <= 45.40\n",
      "|   |   |   |   |   |   |   |   |--- Rotational speed [rpm] <= 1593.50\n",
      "|   |   |   |   |   |   |   |   |   |--- class: 0\n",
      "|   |   |   |   |   |   |   |   |--- Rotational speed [rpm] >  1593.50\n",
      "|   |   |   |   |   |   |   |   |   |--- Tool wear [min] <= 225.50\n",
      "|   |   |   |   |   |   |   |   |   |   |--- Air temperature [K] <= 301.05\n",
      "|   |   |   |   |   |   |   |   |   |   |   |--- class: 1\n",
      "|   |   |   |   |   |   |   |   |   |   |--- Air temperature [K] >  301.05\n",
      "|   |   |   |   |   |   |   |   |   |   |   |--- class: 0\n",
      "|   |   |   |   |   |   |   |   |   |--- Tool wear [min] >  225.50\n",
      "|   |   |   |   |   |   |   |   |   |   |--- Type <= 0.50\n",
      "|   |   |   |   |   |   |   |   |   |   |   |--- truncated branch of depth 3\n",
      "|   |   |   |   |   |   |   |   |   |   |--- Type >  0.50\n",
      "|   |   |   |   |   |   |   |   |   |   |   |--- truncated branch of depth 3\n",
      "|   |   |   |   |   |   |   |--- Torque [Nm] >  45.40\n",
      "|   |   |   |   |   |   |   |   |--- Tool wear [min] <= 227.00\n",
      "|   |   |   |   |   |   |   |   |   |--- class: 0\n",
      "|   |   |   |   |   |   |   |   |--- Tool wear [min] >  227.00\n",
      "|   |   |   |   |   |   |   |   |   |--- class: 1\n",
      "|   |   |   |   |   |--- Torque [Nm] >  52.10\n",
      "|   |   |   |   |   |   |--- Rotational speed [rpm] <= 1436.00\n",
      "|   |   |   |   |   |   |   |--- class: 1\n",
      "|   |   |   |   |   |   |--- Rotational speed [rpm] >  1436.00\n",
      "|   |   |   |   |   |   |   |--- class: 0\n",
      "|   |   |   |--- Torque [Nm] >  59.05\n",
      "|   |   |   |   |--- Rotational speed [rpm] <= 1418.50\n",
      "|   |   |   |   |   |--- Torque [Nm] <= 61.10\n",
      "|   |   |   |   |   |   |--- class: 0\n",
      "|   |   |   |   |   |--- Torque [Nm] >  61.10\n",
      "|   |   |   |   |   |   |--- Tool wear [min] <= 82.00\n",
      "|   |   |   |   |   |   |   |--- class: 0\n",
      "|   |   |   |   |   |   |--- Tool wear [min] >  82.00\n",
      "|   |   |   |   |   |   |   |--- class: 1\n",
      "|   |   |   |   |--- Rotational speed [rpm] >  1418.50\n",
      "|   |   |   |   |   |--- class: 1\n",
      "|--- Torque [Nm] >  65.05\n",
      "|   |--- Rotational speed [rpm] <= 1228.50\n",
      "|   |   |--- Process temperature [K] <= 311.25\n",
      "|   |   |   |--- class: 0\n",
      "|   |   |--- Process temperature [K] >  311.25\n",
      "|   |   |   |--- class: 1\n",
      "|   |--- Rotational speed [rpm] >  1228.50\n",
      "|   |   |--- Torque [Nm] <= 67.40\n",
      "|   |   |   |--- Rotational speed [rpm] <= 1294.00\n",
      "|   |   |   |   |--- Tool wear [min] <= 184.00\n",
      "|   |   |   |   |   |--- class: 0\n",
      "|   |   |   |   |--- Tool wear [min] >  184.00\n",
      "|   |   |   |   |   |--- class: 1\n",
      "|   |   |   |--- Rotational speed [rpm] >  1294.00\n",
      "|   |   |   |   |--- class: 1\n",
      "|   |   |--- Torque [Nm] >  67.40\n",
      "|   |   |   |--- class: 1\n",
      "\n"
     ]
    }
   ],
   "source": [
    "tree_as_text = tree.export_text(dt_model, feature_names=list(maintenance.columns[1:-1]))\n",
    "print(tree_as_text)"
   ]
  },
  {
   "cell_type": "code",
   "execution_count": 37,
   "id": "0d00ad00",
   "metadata": {
    "scrolled": false
   },
   "outputs": [
    {
     "name": "stdout",
     "output_type": "stream",
     "text": [
      "<class 'pandas.core.frame.DataFrame'>\n",
      "Int64Index: 7500 entries, 2294 to 4367\n",
      "Data columns (total 6 columns):\n",
      " #   Column                   Non-Null Count  Dtype  \n",
      "---  ------                   --------------  -----  \n",
      " 0   Type                     7500 non-null   float64\n",
      " 1   Air temperature [K]      7500 non-null   float64\n",
      " 2   Process temperature [K]  7500 non-null   float64\n",
      " 3   Rotational speed [rpm]   7500 non-null   int64  \n",
      " 4   Torque [Nm]              7500 non-null   float64\n",
      " 5   Tool wear [min]          7500 non-null   int64  \n",
      "dtypes: float64(4), int64(2)\n",
      "memory usage: 410.2 KB\n",
      "-----------\n",
      "<class 'pandas.core.series.Series'>\n",
      "Int64Index: 7500 entries, 2294 to 4367\n",
      "Series name: Target\n",
      "Non-Null Count  Dtype\n",
      "--------------  -----\n",
      "7500 non-null   int64\n",
      "dtypes: int64(1)\n",
      "memory usage: 117.2 KB\n",
      "Unique values\n"
     ]
    },
    {
     "data": {
      "text/plain": [
       "0    7243\n",
       "1     257\n",
       "Name: Target, dtype: int64"
      ]
     },
     "execution_count": 37,
     "metadata": {},
     "output_type": "execute_result"
    }
   ],
   "source": [
    "X_train.info()\n",
    "print('-----------')\n",
    "y_train.info()\n",
    "print('Unique values')\n",
    "y_train.value_counts()"
   ]
  },
  {
   "cell_type": "code",
   "execution_count": 44,
   "id": "673f01f1",
   "metadata": {},
   "outputs": [
    {
     "name": "stdout",
     "output_type": "stream",
     "text": [
      "<class 'pandas.core.frame.DataFrame'>\n",
      "Int64Index: 2500 entries, 9957 to 6961\n",
      "Data columns (total 6 columns):\n",
      " #   Column                   Non-Null Count  Dtype  \n",
      "---  ------                   --------------  -----  \n",
      " 0   Type                     2500 non-null   float64\n",
      " 1   Air temperature [K]      2500 non-null   float64\n",
      " 2   Process temperature [K]  2500 non-null   float64\n",
      " 3   Rotational speed [rpm]   2500 non-null   int64  \n",
      " 4   Torque [Nm]              2500 non-null   float64\n",
      " 5   Tool wear [min]          2500 non-null   int64  \n",
      "dtypes: float64(4), int64(2)\n",
      "memory usage: 136.7 KB\n",
      "-----------\n",
      "<class 'pandas.core.series.Series'>\n",
      "Int64Index: 2500 entries, 9957 to 6961\n",
      "Series name: Target\n",
      "Non-Null Count  Dtype\n",
      "--------------  -----\n",
      "2500 non-null   int64\n",
      "dtypes: int64(1)\n",
      "memory usage: 39.1 KB\n",
      "Unique values\n"
     ]
    },
    {
     "data": {
      "text/plain": [
       "0    2418\n",
       "1      82\n",
       "Name: Target, dtype: int64"
      ]
     },
     "execution_count": 44,
     "metadata": {},
     "output_type": "execute_result"
    }
   ],
   "source": [
    "X_test.info()\n",
    "print('-----------')\n",
    "y_test.info()\n",
    "print('Unique values')\n",
    "y_test.value_counts()"
   ]
  },
  {
   "cell_type": "markdown",
   "id": "b3617998",
   "metadata": {},
   "source": [
    "As we can see and have predicted, the ratio between Target 1 and Target 0 is totally imbalanced between the test and training set. So let's split it evenly."
   ]
  },
  {
   "cell_type": "markdown",
   "id": "f6f9c5cb",
   "metadata": {},
   "source": [
    "## Splitting the data evenly"
   ]
  },
  {
   "cell_type": "code",
   "execution_count": 52,
   "id": "721f05e6",
   "metadata": {},
   "outputs": [],
   "source": [
    "X = maintenance[maintenance.columns[1:-1]]\n",
    "y = maintenance['Target']\n",
    "\n",
    "X_train, X_test, y_train, y_test = train_test_split(X, y, random_state=20, test_size=0.3, stratify=y)"
   ]
  },
  {
   "cell_type": "code",
   "execution_count": 53,
   "id": "7250735c",
   "metadata": {},
   "outputs": [
    {
     "data": {
      "text/plain": [
       "array([<AxesSubplot: ylabel='0'>], dtype=object)"
      ]
     },
     "execution_count": 53,
     "metadata": {},
     "output_type": "execute_result"
    },
    {
     "data": {
      "image/png": "[encoded data removed]",
      "text/plain": [
       "<Figure size 640x480 with 1 Axes>"
      ]
     },
     "metadata": {},
     "output_type": "display_data"
    }
   ],
   "source": [
    "pd.DataFrame([len(y_train), len(y_test)], index=['train', 'test']).plot(kind='pie', subplots=True)"
   ]
  },
  {
   "cell_type": "code",
   "execution_count": 54,
   "id": "e3756e60",
   "metadata": {},
   "outputs": [
    {
     "data": {
      "text/plain": [
       "<AxesSubplot: title={'center': 'test'}, ylabel='Target'>"
      ]
     },
     "execution_count": 54,
     "metadata": {},
     "output_type": "execute_result"
    },
    {
     "data": {
      "image/png": "[encoded data removed]",
      "text/plain": [
       "<Figure size 1200x600 with 2 Axes>"
      ]
     },
     "metadata": {},
     "output_type": "display_data"
    }
   ],
   "source": [
    "fig, (ax1, ax2) = plt.subplots(1, 2, figsize=(12,6))\n",
    "y_train.value_counts().plot(kind='pie', ax=ax1, title='train')\n",
    "y_test.value_counts().plot(kind='pie', ax=ax2, title='test')"
   ]
  },
  {
   "cell_type": "code",
   "execution_count": 58,
   "id": "b700d71c",
   "metadata": {},
   "outputs": [
    {
     "name": "stdout",
     "output_type": "stream",
     "text": [
      "Train dataset target amount: \n"
     ]
    },
    {
     "data": {
      "text/plain": [
       "0    6763\n",
       "1     237\n",
       "Name: Target, dtype: int64"
      ]
     },
     "execution_count": 58,
     "metadata": {},
     "output_type": "execute_result"
    }
   ],
   "source": [
    "print('Train dataset target amount: ')\n",
    "y_train.value_counts()"
   ]
  },
  {
   "cell_type": "code",
   "execution_count": 59,
   "id": "41a2e0e7",
   "metadata": {},
   "outputs": [
    {
     "name": "stdout",
     "output_type": "stream",
     "text": [
      "Test dataset target amount: \n"
     ]
    },
    {
     "data": {
      "text/plain": [
       "0    2898\n",
       "1     102\n",
       "Name: Target, dtype: int64"
      ]
     },
     "execution_count": 59,
     "metadata": {},
     "output_type": "execute_result"
    }
   ],
   "source": [
    "print('Test dataset target amount: ')\n",
    "y_test.value_counts()"
   ]
  },
  {
   "cell_type": "markdown",
   "id": "bff9f3a4",
   "metadata": {},
   "source": [
    "### Making a new decision tree with balanced data"
   ]
  },
  {
   "cell_type": "code",
   "execution_count": 60,
   "id": "be24c7c3",
   "metadata": {},
   "outputs": [
    {
     "name": "stdout",
     "output_type": "stream",
     "text": [
      "Accuracy: 98.13%\n"
     ]
    }
   ],
   "source": [
    "dt_model = DecisionTreeClassifier()\n",
    "dt_model.fit(X_train, y_train)\n",
    "\n",
    "y_pred = dt_model.predict(X_test)\n",
    "\n",
    "accuracy_score = metrics.accuracy_score(y_test, y_pred)\n",
    "print('Accuracy: {:.2%}'.format(accuracy_score))"
   ]
  },
  {
   "cell_type": "markdown",
   "id": "349f73d3",
   "metadata": {},
   "source": [
    "With the balanced data the accuracy got even higher."
   ]
  },
  {
   "cell_type": "code",
   "execution_count": 66,
   "id": "e84a712b",
   "metadata": {},
   "outputs": [],
   "source": [
    "def train_and_find_best_depth(X_train, X_val, y_train, y_val, do_print):\n",
    "    result = None\n",
    "    accuracy_max = -1\n",
    "\n",
    "    for curr_max_depth in range(1, 20):\n",
    "        dt_model = DecisionTreeClassifier(max_depth=curr_max_depth, random_state=20)\n",
    "        dt_model.fit(X_train, y_train)\n",
    "        y_pred = dt_model.predict(X_val)\n",
    "\n",
    "        accuracy_score = metrics.accuracy_score(y_val, y_pred)\n",
    "\n",
    "        if accuracy_score >= accuracy_max:\n",
    "            accuracy_max = accuracy_score\n",
    "            result = curr_max_depth\n",
    "\n",
    "        if do_print:\n",
    "            print('max depth {}: {:.2%} accuracy on test set.'.format(curr_max_depth, accuracy_score))\n",
    "    if do_print:\n",
    "        print('-' * 20)\n",
    "        print('best max depth {} has {:.2%} accuracy.'.format(result,accuracy_max))\n",
    "\n",
    "    return result"
   ]
  },
  {
   "cell_type": "code",
   "execution_count": 67,
   "id": "98af8a41",
   "metadata": {},
   "outputs": [
    {
     "name": "stdout",
     "output_type": "stream",
     "text": [
      "max depth 1: 97.00% accuracy on test set.\n",
      "max depth 2: 97.17% accuracy on test set.\n",
      "max depth 3: 97.20% accuracy on test set.\n",
      "max depth 4: 97.40% accuracy on test set.\n",
      "max depth 5: 97.60% accuracy on test set.\n",
      "max depth 6: 97.87% accuracy on test set.\n",
      "max depth 7: 98.43% accuracy on test set.\n",
      "max depth 8: 98.40% accuracy on test set.\n",
      "max depth 9: 98.43% accuracy on test set.\n",
      "max depth 10: 98.43% accuracy on test set.\n",
      "max depth 11: 98.43% accuracy on test set.\n",
      "max depth 12: 98.43% accuracy on test set.\n",
      "max depth 13: 98.43% accuracy on test set.\n",
      "max depth 14: 98.43% accuracy on test set.\n",
      "max depth 15: 98.43% accuracy on test set.\n",
      "max depth 16: 98.30% accuracy on test set.\n",
      "max depth 17: 98.23% accuracy on test set.\n",
      "max depth 18: 98.23% accuracy on test set.\n",
      "max depth 19: 98.27% accuracy on test set.\n",
      "--------------------\n",
      "best max depth 15 has 98.43% accuracy.\n"
     ]
    }
   ],
   "source": [
    "best_max_depth = train_and_find_best_depth(X_train ,X_test, y_train, y_test, True)"
   ]
  },
  {
   "cell_type": "markdown",
   "id": "f9439d9e",
   "metadata": {},
   "source": [
    "According to the output the best depth ist 15, although about the same accuracy can be achieved with only a depth of 7."
   ]
  }
 ],
 "metadata": {
  "kernelspec": {
   "display_name": "Python 3 (ipykernel)",
   "language": "python",
   "name": "python3"
  },
  "language_info": {
   "codemirror_mode": {
    "name": "ipython",
    "version": 3
   },
   "file_extension": ".py",
   "mimetype": "text/x-python",
   "name": "python",
   "nbconvert_exporter": "python",
   "pygments_lexer": "ipython3",
   "version": "3.10.6"
  }
 },
 "nbformat": 4,
 "nbformat_minor": 5
}
